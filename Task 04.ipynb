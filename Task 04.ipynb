{
 "cells": [
  {
   "cell_type": "code",
   "execution_count": null,
   "id": "ee26decb",
   "metadata": {},
   "outputs": [],
   "source": [
    "import requests\n",
    "import csv\n",
    "from bs4 import BeautifulSoup\n",
    "from selenium import webdriver\n",
    "from selenium.webdriver.common.by import By\n",
    "from selenium.webdriver.support.ui import WebDriverWait\n",
    "from selenium.webdriver.support import expected_conditions as EC\n",
    "from itertools import cycle"
   ]
  },
  {
   "cell_type": "code",
   "execution_count": null,
   "id": "3234f6d5",
   "metadata": {},
   "outputs": [],
   "source": [
    "def rotate_proxies(proxies):\n",
    "    \"\"\"\n",
    "    Rotate proxies in a round-robin manner.\n",
    "    \"\"\"\n",
    "    proxy_cycle = cycle(proxies)\n",
    "    return next(proxy_cycle)"
   ]
  },
  {
   "cell_type": "code",
   "execution_count": null,
   "id": "faaa52c3",
   "metadata": {},
   "outputs": [],
   "source": [
    "# Function to read proxies from a file\n",
    "def read_proxies(file_path):\n",
    "    with open(file_path, 'r') as file:\n",
    "        proxies = [line.strip() for line in file if line.strip()]\n",
    "    return proxies"
   ]
  },
  {
   "cell_type": "code",
   "execution_count": null,
   "id": "2d4c7c7f",
   "metadata": {},
   "outputs": [],
   "source": [
    "#function to check the proxies are working or not\n",
    "def check_proxies(proxy):\n",
    "    try:\n",
    "        res = requests.get('URL', proxies={\"http\":proxy,\"https\":proxy}, timeout=(5)) #put the url to be scraped for testing\n",
    "        if res.status_code == 200:\n",
    "            return True\n",
    "    except requests.RequestException as e:\n",
    "            return None"
   ]
  },
  {
   "cell_type": "code",
   "execution_count": null,
   "id": "69637281",
   "metadata": {},
   "outputs": [],
   "source": [
    "# to read the data out of website\n",
    "def r_data(sites, proxy):\n",
    "    driver = webdriver.Edge()\n",
    "    # Define your proxy settings\n",
    "    proxy_address = proxy\n",
    "    # Create EdgeOptions object\n",
    "    edge_options = webdriver.EdgeOptions()\n",
    "    # Add the proxy settings to EdgeOptions\n",
    "    edge_options.add_argument(\"--proxy-server={}\".format(proxy_address))\n",
    "    # Specify the path for the CSV file\n",
    "    csv_file_path = 'scraped.csv'\n",
    "\n",
    "    try:\n",
    "        # Navigate to the webpage\n",
    "        driver.get(sites)\n",
    "\n",
    "        # Find all <span> elements within <p> elements with class \"listedItemDetails\"\n",
    "        span_elements = WebDriverWait(driver, 10).until(\n",
    "            EC.presence_of_all_elements_located((By.CSS_SELECTOR, 'p.listedItemDetails span'))\n",
    "        )\n",
    "\n",
    "        # Click on each <span> element\n",
    "        for span_element in span_elements:\n",
    "            span_element.click()\n",
    "\n",
    "        # Get the updated HTML content\n",
    "        updated_html = driver.page_source\n",
    "\n",
    "        # Parse the updated HTML with BeautifulSoup\n",
    "        soup = BeautifulSoup(updated_html, 'html.parser')\n",
    "\n",
    "        # Initialize a list to store the data\n",
    "        data_list = []\n",
    "\n",
    "        # find all elements with class 'itemInfo'\n",
    "        item_infos = soup.find_all('article', class_='itemInfo')\n",
    "\n",
    "        for item_info in item_infos:\n",
    "            item_name = item_info.find('p', class_='itemName').a.text.strip()\n",
    "            item_price = item_info.find('span', class_='itemPrice').text.strip()\n",
    "\n",
    "            # Save item_name and item_price in the list\n",
    "            data_list.append({'Item Name': item_name, 'Item Price': item_price})\n",
    "\n",
    "        # Replace the currency symbol in the 'Item Price' field\n",
    "        for item in data_list:\n",
    "            if '₹' in item['Item Price']:\n",
    "                item['Item Price'] = 'Rs.' + item['Item Price'][1:]\n",
    "\n",
    "        # Save the list to a CSV file\n",
    "        with open(csv_file_path, 'a', newline='', encoding='utf-8') as csvfile:\n",
    "            fieldnames = ['Item Name', 'Item Price']\n",
    "            writer = csv.DictWriter(csvfile, fieldnames=fieldnames)\n",
    "            # Write the header\n",
    "            writer.writeheader()\n",
    "\n",
    "            # Write the data\n",
    "            writer.writerows(data_list)\n",
    "\n",
    "        print(f'List saved to CSV file: {csv_file_path}')\n",
    "    except requests.RequestException:\n",
    "        print(f\"Failed:\")"
   ]
  },
  {
   "cell_type": "code",
   "execution_count": null,
   "id": "20aca32e",
   "metadata": {},
   "outputs": [],
   "source": [
    "def main():\n",
    "    # Path to the file containing proxies\n",
    "    proxy_file_path = \"proxy_list\"\n",
    "    #Read proxies from the file\n",
    "    proxies_list = read_proxies(proxy_file_path)\n",
    "    sites= [\n",
    "\n",
    "        \"URL1\",\n",
    "        \"URL2\",\n",
    "        \"URL3\"\n",
    "        ] #sites from where you want the data\n",
    "\n",
    "    for site in sites:\n",
    "        proxy_cycle = cycle(proxies_list)\n",
    "        for _ in range(len(proxies_list)):\n",
    "            current_proxy = next(proxy_cycle)\n",
    "      #for proxy in proxies_list:\n",
    "            if check_proxies(current_proxy):\n",
    "                r_data(site, current_proxy)\n",
    "                break\n",
    "            else:\n",
    "                print(f\"Proxy {current_proxy} Not Working. Moving to the next proxy.\")\n",
    "\n",
    "if __name__ == \"__main__\":\n",
    "    main()"
   ]
  },
  {
   "cell_type": "code",
   "execution_count": null,
   "id": "82f64cfc",
   "metadata": {},
   "outputs": [],
   "source": []
  },
  {
   "cell_type": "code",
   "execution_count": null,
   "id": "80c67a0b",
   "metadata": {},
   "outputs": [],
   "source": []
  },
  {
   "cell_type": "code",
   "execution_count": null,
   "id": "07f39d6b",
   "metadata": {},
   "outputs": [],
   "source": []
  },
  {
   "cell_type": "code",
   "execution_count": null,
   "id": "8ff54065",
   "metadata": {},
   "outputs": [],
   "source": []
  },
  {
   "cell_type": "code",
   "execution_count": null,
   "id": "5b224a0d",
   "metadata": {},
   "outputs": [],
   "source": []
  },
  {
   "cell_type": "code",
   "execution_count": null,
   "id": "1ae92808",
   "metadata": {},
   "outputs": [],
   "source": []
  }
 ],
 "metadata": {
  "kernelspec": {
   "display_name": "Python 3",
   "language": "python",
   "name": "python3"
  },
  "language_info": {
   "codemirror_mode": {
    "name": "ipython",
    "version": 3
   },
   "file_extension": ".py",
   "mimetype": "text/x-python",
   "name": "python",
   "nbconvert_exporter": "python",
   "pygments_lexer": "ipython3",
   "version": "3.8.8"
  }
 },
 "nbformat": 4,
 "nbformat_minor": 5
}
