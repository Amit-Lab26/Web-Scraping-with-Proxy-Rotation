{
 "cells": [
  {
   "cell_type": "code",
   "execution_count": null,
   "id": "4ed5f6e4",
   "metadata": {},
   "outputs": [],
   "source": [
    "#Handling the dynamic content"
   ]
  },
  {
   "cell_type": "code",
   "execution_count": null,
   "id": "704ab65a",
   "metadata": {},
   "outputs": [],
   "source": [
    "import sys\n",
    "import time\n",
    "from bs4 import BeautifulSoup\n",
    "import requests\n",
    "import json\n",
    "from selenium import webdriver"
   ]
  },
  {
   "cell_type": "code",
   "execution_count": null,
   "id": "3c36aec7",
   "metadata": {},
   "outputs": [],
   "source": [
    "# Set up Selenium WebDriver\n",
    "# Specify the path to chromedriver.exe\n",
    "driver_path = 'edgedriver_win64/msedgedriver.exe' #put your diver path here\n",
    "driver = webdriver.Edge(executable_path=driver_path)# You'll need to download the ChromeDriver executable and provide its path"
   ]
  },
  {
   "cell_type": "code",
   "execution_count": null,
   "id": "2fb337af",
   "metadata": {},
   "outputs": [],
   "source": [
    "url = \"website url\"  # Replace with the URL of the page you want to scrape\n",
    "driver.get(url)"
   ]
  },
  {
   "cell_type": "code",
   "execution_count": null,
   "id": "73a98e07",
   "metadata": {},
   "outputs": [],
   "source": [
    "from selenium.webdriver.common.by import By"
   ]
  },
  {
   "cell_type": "code",
   "execution_count": null,
   "id": "b0f71d4a",
   "metadata": {},
   "outputs": [],
   "source": [
    "button = driver.find_element(By.CLASS_NAME, 'countCta')  # Assuming 'countCta' is the class of the button\n",
    "\n",
    "# Click the button\n",
    "button.click()"
   ]
  },
  {
   "cell_type": "code",
   "execution_count": null,
   "id": "da4cf9fe",
   "metadata": {},
   "outputs": [],
   "source": [
    "from selenium.webdriver.support.ui import WebDriverWait\n",
    "from selenium.webdriver.support import expected_conditions as EC"
   ]
  },
  {
   "cell_type": "code",
   "execution_count": null,
   "id": "3f64c374",
   "metadata": {},
   "outputs": [],
   "source": [
    "wait = WebDriverWait(driver, 10)\n",
    "popup_button = wait.until(EC.presence_of_element_located((By.CLASS_NAME, 'addCTA')))\n",
    "\n",
    "# Click the button on the popup\n",
    "popup_button.click()"
   ]
  },
  {
   "cell_type": "code",
   "execution_count": null,
   "id": "bd17679e",
   "metadata": {},
   "outputs": [],
   "source": [
    "final_price_span = driver.find_element(By.CLASS_NAME, 'finalPrice')\n",
    "final_price_data = final_price_span.text"
   ]
  },
  {
   "cell_type": "code",
   "execution_count": null,
   "id": "0a708a2d",
   "metadata": {},
   "outputs": [],
   "source": [
    "final_price_data"
   ]
  }
 ],
 "metadata": {
  "kernelspec": {
   "display_name": "Python 3",
   "language": "python",
   "name": "python3"
  },
  "language_info": {
   "codemirror_mode": {
    "name": "ipython",
    "version": 3
   },
   "file_extension": ".py",
   "mimetype": "text/x-python",
   "name": "python",
   "nbconvert_exporter": "python",
   "pygments_lexer": "ipython3",
   "version": "3.8.8"
  }
 },
 "nbformat": 4,
 "nbformat_minor": 5
}
