{
 "cells": [
  {
   "cell_type": "code",
   "execution_count": null,
   "id": "d519ae6d",
   "metadata": {},
   "outputs": [],
   "source": [
    "import requests\n",
    "from bs4 import BeautifulSoup\n",
    "import sys\n",
    "import time\n",
    "import json"
   ]
  },
  {
   "cell_type": "code",
   "execution_count": null,
   "id": "d9f83629",
   "metadata": {},
   "outputs": [],
   "source": [
    "page=requests.get(\"website url\")"
   ]
  },
  {
   "cell_type": "code",
   "execution_count": null,
   "id": "eddb6956",
   "metadata": {},
   "outputs": [],
   "source": [
    "page"
   ]
  },
  {
   "cell_type": "code",
   "execution_count": null,
   "id": "b0729982",
   "metadata": {},
   "outputs": [],
   "source": [
    "soup=BeautifulSoup(page.text,'html.parser')"
   ]
  },
  {
   "cell_type": "code",
   "execution_count": null,
   "id": "75c59a11",
   "metadata": {},
   "outputs": [],
   "source": [
    "soup"
   ]
  },
  {
   "cell_type": "code",
   "execution_count": null,
   "id": "a2a04911",
   "metadata": {},
   "outputs": [],
   "source": [
    "# Find the relevant div with class 'itemDetails'\n",
    "#item_details_div = soup.find_all('div', class_='itemDetails')\n",
    "catalog_items = soup.find_all('div', class_='catalogItemsHolder')"
   ]
  },
  {
   "cell_type": "code",
   "execution_count": null,
   "id": "eeae6a57",
   "metadata": {},
   "outputs": [],
   "source": [
    "# List to store item information\n",
    "items_list = []"
   ]
  },
  {
   "cell_type": "code",
   "execution_count": null,
   "id": "b325a5ef",
   "metadata": {},
   "outputs": [],
   "source": [
    "for catalog_item in catalog_items:\n",
    "    # Find all sections with class 'categoryItemHolder' within the current 'catalogItemsHolder'\n",
    "    item_sections = catalog_item.find_all('section', class_='categoryItemHolder')\n",
    "\n",
    "    for item_section in item_sections:\n",
    "        # Find the relevant div with class 'itemDetails' within the current 'categoryItemHolder'\n",
    "        item_details_div = item_section.find('div', class_='itemDetails')\n",
    "\n",
    "        # Extract itemName and itemPrice\n",
    "        item_name = item_details_div.find('a', class_='itemName').text.strip()\n",
    "        item_price = item_details_div.find('span', class_='itemPrice').text.strip()\n",
    "\n",
    "        # Add item information to the list\n",
    "        items_list.append({'Item Name': item_name, 'Item Price': item_price})"
   ]
  },
  {
   "cell_type": "code",
   "execution_count": null,
   "id": "99a9135a",
   "metadata": {},
   "outputs": [],
   "source": [
    "# Print or use the items_list as needed\n",
    "for item in items_list:\n",
    "    print(f'Item Name: {item[\"Item Name\"]}')\n",
    "    print(f'Item Price: {item[\"Item Price\"]}')\n",
    "    print('-' * 20)"
   ]
  }
 ],
 "metadata": {
  "kernelspec": {
   "display_name": "Python 3",
   "language": "python",
   "name": "python3"
  },
  "language_info": {
   "codemirror_mode": {
    "name": "ipython",
    "version": 3
   },
   "file_extension": ".py",
   "mimetype": "text/x-python",
   "name": "python",
   "nbconvert_exporter": "python",
   "pygments_lexer": "ipython3",
   "version": "3.8.8"
  }
 },
 "nbformat": 4,
 "nbformat_minor": 5
}
