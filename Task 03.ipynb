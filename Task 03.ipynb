{
 "cells": [
  {
   "cell_type": "code",
   "execution_count": null,
   "id": "3b1ae767",
   "metadata": {},
   "outputs": [],
   "source": [
    "import requests\n",
    "import csv\n",
    "import re\n",
    "from bs4 import BeautifulSoup\n",
    "import sys\n",
    "import time\n",
    "import json\n",
    "from selenium import webdriver\n",
    "from selenium.webdriver.common.by import By\n",
    "from selenium.webdriver.support.ui import WebDriverWait\n",
    "from selenium.webdriver.support import expected_conditions as EC"
   ]
  },
  {
   "cell_type": "code",
   "execution_count": null,
   "id": "f5fed94b",
   "metadata": {},
   "outputs": [],
   "source": [
    "# Set up Selenium WebDriver\n",
    "# Specify the path to chromedriver.exe\n",
    "driver_path = 'your driver path'\n",
    "driver = webdriver.Edge(executable_path=driver_path)# You'll need to download the ChromeDriver executable and provide its path"
   ]
  },
  {
   "cell_type": "code",
   "execution_count": null,
   "id": "205ba4d5",
   "metadata": {},
   "outputs": [],
   "source": [
    "# Navigate to the webpage\n",
    "driver.get('put your URL to be scraped') "
   ]
  },
  {
   "cell_type": "code",
   "execution_count": null,
   "id": "aebd1567",
   "metadata": {},
   "outputs": [],
   "source": [
    "# Find all <span> elements within <p> elements with class \"listedItemDetails\"\n",
    "span_elements = WebDriverWait(driver, 10).until(\n",
    "    EC.presence_of_all_elements_located((By.CSS_SELECTOR, 'p.listedItemDetails span'))\n",
    ")\n",
    "\n",
    "# Click on each <span> element\n",
    "for span_element in span_elements:\n",
    "    span_element.click()"
   ]
  },
  {
   "cell_type": "code",
   "execution_count": null,
   "id": "6ff49213",
   "metadata": {},
   "outputs": [],
   "source": [
    "# Get the updated HTML content\n",
    "updated_html = driver.page_source\n",
    "\n",
    "# Parse the updated HTML with BeautifulSoup\n",
    "soup = BeautifulSoup(updated_html, 'html.parser')\n",
    "# Beautify the HTML content\n",
    "beautified_html = soup.prettify()"
   ]
  },
  {
   "cell_type": "code",
   "execution_count": null,
   "id": "a2ff0aff",
   "metadata": {},
   "outputs": [],
   "source": [
    "beautified_html"
   ]
  },
  {
   "cell_type": "code",
   "execution_count": null,
   "id": "7c612af0",
   "metadata": {},
   "outputs": [],
   "source": [
    "# Initialize a dictionary to store the data\n",
    "data_dict = {}\n",
    "\n",
    "# Find all elements with class 'categoryListing' or 'subListingsHeader'\n",
    "catalog_items = soup.find_all(['article'], class_=['categoryListing'])\n",
    "current_category = None  # Keep track of the current category heading"
   ]
  },
  {
   "cell_type": "code",
   "execution_count": null,
   "id": "0895d7f8",
   "metadata": {},
   "outputs": [],
   "source": [
    "List2=[]\n",
    "# For example, find all elements with class 'itemInfo'\n",
    "item_infos = soup.find_all('article', class_='itemInfo')\n",
    "\n",
    "for item_info in item_infos:\n",
    "    item_name = item_info.find('p', class_='itemName').a.text.strip()\n",
    "    item_price = item_info.find('span', class_='itemPrice').text.strip()\n",
    "\n",
    "    # Save item_name and item_price in List2\n",
    "    List2.append({'Item Name': item_name, 'Item Price': item_price})\n"
   ]
  },
  {
   "cell_type": "code",
   "execution_count": null,
   "id": "f047f08a",
   "metadata": {},
   "outputs": [],
   "source": [
    "List2 #check the dcraped data svaed inside the list 2"
   ]
  },
  {
   "cell_type": "code",
   "execution_count": null,
   "id": "4c4d92b3",
   "metadata": {},
   "outputs": [],
   "source": [
    "# Count the number of items in the list\n",
    "item_count = len(List2)\n",
    "item_count"
   ]
  },
  {
   "cell_type": "code",
   "execution_count": null,
   "id": "bbb62bc2",
   "metadata": {},
   "outputs": [],
   "source": [
    "# Specify the CSV file name\n",
    "csv_file_name = 'output.csv'\n",
    "# Replace the currency symbol in the 'Item Price' field\n",
    "\n",
    "for item in List2:\n",
    "    if '₹' in item['Item Price']:\n",
    "        item['Item Price'] = 'Rs.' + item['Item Price'][1:]"
   ]
  },
  {
   "cell_type": "code",
   "execution_count": null,
   "id": "4bb5abab",
   "metadata": {},
   "outputs": [],
   "source": [
    "# Specify the path for the CSV file\n",
    "csv_file_path = 'output.csv'\n",
    "\n",
    "# Save the list to a CSV file\n",
    "with open(csv_file_path, 'w', newline='', encoding='utf-8') as csvfile:\n",
    "    fieldnames = ['Item Name', 'Item Price']\n",
    "    writer = csv.DictWriter(csvfile, fieldnames=fieldnames)\n",
    "\n",
    "    # Write the header\n",
    "    writer.writeheader()\n",
    "\n",
    "    # Write the data\n",
    "    writer.writerows(List2)\n",
    "\n",
    "print(f'List saved to CSV file: {csv_file_path}')"
   ]
  },
  {
   "cell_type": "code",
   "execution_count": null,
   "id": "176555d5",
   "metadata": {},
   "outputs": [],
   "source": [
    "# Close the browser window\n",
    "driver.quit()"
   ]
  },
  {
   "cell_type": "code",
   "execution_count": null,
   "id": "40065a00",
   "metadata": {},
   "outputs": [],
   "source": []
  }
 ],
 "metadata": {
  "kernelspec": {
   "display_name": "Python 3",
   "language": "python",
   "name": "python3"
  },
  "language_info": {
   "codemirror_mode": {
    "name": "ipython",
    "version": 3
   },
   "file_extension": ".py",
   "mimetype": "text/x-python",
   "name": "python",
   "nbconvert_exporter": "python",
   "pygments_lexer": "ipython3",
   "version": "3.8.8"
  }
 },
 "nbformat": 4,
 "nbformat_minor": 5
}
