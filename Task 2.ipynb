{
 "cells": [
  {
   "cell_type": "code",
   "execution_count": null,
   "id": "96899ae5",
   "metadata": {},
   "outputs": [],
   "source": [
    "#Handling the dynamic content"
   ]
  },
  {
   "cell_type": "code",
   "execution_count": 9,
   "id": "7bc39c7f",
   "metadata": {},
   "outputs": [],
   "source": [
    "import sys\n",
    "import time\n",
    "from bs4 import BeautifulSoup\n",
    "import requests\n",
    "import json\n",
    "from selenium import webdriver"
   ]
  },
  {
   "cell_type": "code",
   "execution_count": 24,
   "id": "6922e337",
   "metadata": {},
   "outputs": [
    {
     "name": "stderr",
     "output_type": "stream",
     "text": [
      "<ipython-input-24-d5a014ef77e7>:4: DeprecationWarning: executable_path has been deprecated, please pass in a Service object\n",
      "  driver = webdriver.Edge(executable_path=driver_path)# You'll need to download the ChromeDriver executable and provide its path\n"
     ]
    }
   ],
   "source": [
    "# Set up Selenium WebDriver\n",
    "# Specify the path to chromedriver.exe\n",
    "driver_path = 'C:/Users/Khushi/Documents/Cooltrack/edgedriver_win64/msedgedriver.exe'\n",
    "driver = webdriver.Edge(executable_path=driver_path)# You'll need to download the ChromeDriver executable and provide its path\n"
   ]
  },
  {
   "cell_type": "code",
   "execution_count": 14,
   "id": "28848260",
   "metadata": {},
   "outputs": [],
   "source": [
    "url = \"https://magicpin.in/New-Delhi/Paharganj/Restaurant/Eatfit/store/61a193/delivery/\"  # Replace with the URL of the page you want to scrape\n",
    "driver.get(url)"
   ]
  },
  {
   "cell_type": "code",
   "execution_count": 25,
   "id": "6157d747",
   "metadata": {},
   "outputs": [],
   "source": [
    "from selenium.webdriver.common.by import By"
   ]
  },
  {
   "cell_type": "code",
   "execution_count": 17,
   "id": "6131e72d",
   "metadata": {},
   "outputs": [],
   "source": [
    "button = driver.find_element(By.CLASS_NAME, 'countCta')  # Assuming 'countCta' is the class of the button\n",
    "\n",
    "# Click the button\n",
    "button.click()"
   ]
  },
  {
   "cell_type": "code",
   "execution_count": 19,
   "id": "570ea86d",
   "metadata": {},
   "outputs": [],
   "source": [
    "from selenium.webdriver.support.ui import WebDriverWait\n",
    "from selenium.webdriver.support import expected_conditions as EC"
   ]
  },
  {
   "cell_type": "code",
   "execution_count": 20,
   "id": "8d406dd2",
   "metadata": {},
   "outputs": [],
   "source": [
    "wait = WebDriverWait(driver, 10)\n",
    "popup_button = wait.until(EC.presence_of_element_located((By.CLASS_NAME, 'addCTA')))\n",
    "\n",
    "# Click the button on the popup\n",
    "popup_button.click()"
   ]
  },
  {
   "cell_type": "code",
   "execution_count": 21,
   "id": "5bb14fea",
   "metadata": {},
   "outputs": [],
   "source": [
    "final_price_span = driver.find_element(By.CLASS_NAME, 'finalPrice')\n",
    "final_price_data = final_price_span.text"
   ]
  },
  {
   "cell_type": "code",
   "execution_count": 22,
   "id": "20ce2715",
   "metadata": {},
   "outputs": [
    {
     "data": {
      "text/plain": [
       "'₹211.7'"
      ]
     },
     "execution_count": 22,
     "metadata": {},
     "output_type": "execute_result"
    }
   ],
   "source": [
    "final_price_data"
   ]
  },
  {
   "cell_type": "code",
   "execution_count": null,
   "id": "a063b3d2",
   "metadata": {},
   "outputs": [],
   "source": [
    "s"
   ]
  }
 ],
 "metadata": {
  "kernelspec": {
   "display_name": "Python 3",
   "language": "python",
   "name": "python3"
  },
  "language_info": {
   "codemirror_mode": {
    "name": "ipython",
    "version": 3
   },
   "file_extension": ".py",
   "mimetype": "text/x-python",
   "name": "python",
   "nbconvert_exporter": "python",
   "pygments_lexer": "ipython3",
   "version": "3.8.8"
  }
 },
 "nbformat": 4,
 "nbformat_minor": 5
}
